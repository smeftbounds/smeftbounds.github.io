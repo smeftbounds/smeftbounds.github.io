{
 "cells": [
  {
   "cell_type": "code",
   "execution_count": 1,
   "metadata": {},
   "outputs": [],
   "source": [
    "import urllib.request\n",
    "import json\n",
    "#import numpy as np\n",
    "#import re\n",
    "#import collections\n"
   ]
  },
  {
   "cell_type": "markdown",
   "metadata": {},
   "source": [
    "# get required fields from inspire"
   ]
  },
  {
   "cell_type": "code",
   "execution_count": 2,
   "metadata": {},
   "outputs": [],
   "source": [
    "arXivID = '2405.19083'\n",
    "comment = ''"
   ]
  },
  {
   "cell_type": "code",
   "execution_count": 3,
   "metadata": {},
   "outputs": [
    {
     "name": "stdout",
     "output_type": "stream",
     "text": [
      "https://inspirehep.net/api/arxiv/2405.19083\n",
      "['El Faham, Hesham', 'Pelliccioli, Giovanni', 'Vryonidou, Eleni']\n",
      "['COMETA-2024-08', 'MPP-2024-102']\n",
      "Triple-gauge couplings in LHC diboson production: a SMEFT view from every angle\n",
      "2024-05-29\n",
      "\n",
      "COMETA-2024-08, MPP-2024-102\n",
      "Assuming this is a theory paper.\n",
      "theory\n"
     ]
    }
   ],
   "source": [
    "thisurl = \"https://inspirehep.net/api/arxiv/\" + str(arXivID)\n",
    "print(thisurl)\n",
    "with urllib.request.urlopen(thisurl) as url:\n",
    "    data = json.load(url)\n",
    "        # get collaboration\n",
    "    try: \n",
    "        collab = [element[\"value\"] for element in data['metadata']['collaborations']]\n",
    "    except: \n",
    "        collab = ''\n",
    "    \n",
    "    # get authors\n",
    "    try: \n",
    "        authors = [element[\"full_name\"] for element in data['metadata']['authors']]\n",
    "    except: \n",
    "        authors = [element[\"value\"] for element in data['metadata']['collaborations']]\n",
    "        \n",
    "    # get report numbers    \n",
    "    try: \n",
    "        reportNum = [element[\"value\"] for element in data['metadata']['report_numbers']]\n",
    "    except: \n",
    "        reportNum = \"\"\n",
    "    \n",
    "    # get title \n",
    "    title = data['metadata']['titles'][0]['title']\n",
    "    \n",
    "    # get date \n",
    "    date = data['metadata']['preprint_date']\n",
    "\n",
    "        \n",
    "print(authors)\n",
    "print(reportNum)\n",
    "print(title)\n",
    "print(date)\n",
    "print(collab)\n",
    "\n",
    "reportNumString = ', '.join(reportNum)\n",
    "print(reportNumString)\n",
    "\n",
    "if collab == '':\n",
    "    contrib = 'theory'\n",
    "    experiment =''\n",
    "    print('Assuming this is a theory paper.')\n",
    "else:\n",
    "    contrib = 'exp'\n",
    "    experiment = collab\n",
    "    \n",
    "print(contrib)"
   ]
  },
  {
   "cell_type": "code",
   "execution_count": 6,
   "metadata": {},
   "outputs": [
    {
     "name": "stdout",
     "output_type": "stream",
     "text": [
      "{\n",
      "\t\"observable_name\": \"\",\n",
      "\t\"arxiv\": \"2405.19083\",\n",
      "\t\"reportnumber\": \"COMETA-2024-08, MPP-2024-102\",\n",
      "\t\"date\": \"2024-05-29\",\n",
      "\t\"description\": \"Triple-gauge couplings in LHC diboson production: a SMEFT view from every angle\",\n",
      "\t\"comment\": \"\",\n",
      "\t\"contribution\": \"theory\",\n",
      "\t\"experiment\": \"\",\n",
      "\t\"lumiInIfb\": \"\",\n",
      "\t\"energyInTeV\": \"\",\n",
      "\t\"CL\": \"\",\n",
      "\t\"normalizationInGeV\": \"\",\n",
      "\t\"perturbative_order\": \"LO|NLO_QCD|NLO\",\n",
      "\t\"order\": \"D6lin|D6quad\",\n",
      "\t\"type\": \"1D|global\",\n",
      "\t\"limits\": {\n",
      "\t\t\"C\": [,],\n",
      "\t\t\"C\": [,]\n",
      "\t}\n",
      "}\n"
     ]
    }
   ],
   "source": [
    "print(\"{\")\n",
    "print(\"\\t\\\"observable_name\\\": \\\"\\\",\")\n",
    "print(\"\\t\\\"arxiv\\\": \\\"\"+arXivID+\"\\\",\")\n",
    "print(\"\\t\\\"reportnumber\\\": \\\"\"+reportNumString+\"\\\",\")\n",
    "print(\"\\t\\\"date\\\": \\\"\"+date+\"\\\",\")\n",
    "print(\"\\t\\\"description\\\": \\\"\"+title+\"\\\",\")\n",
    "print(\"\\t\\\"comment\\\": \\\"\"+comment+\"\\\",\")\n",
    "print(\"\\t\\\"contribution\\\": \\\"\"+contrib+\"\\\",\")\n",
    "print(\"\\t\\\"experiment\\\": \\\"\\\",\")\n",
    "print(\"\\t\\\"lumiInIfb\\\": \\\"\\\",\")\n",
    "print(\"\\t\\\"energyInTeV\\\": \\\"\\\",\")\n",
    "print(\"\\t\\\"CL\\\": \\\"\\\",\")\n",
    "print(\"\\t\\\"normalizationInGeV\\\": \\\"\\\",\")\n",
    "print(\"\\t\\\"perturbative_order\\\": \\\"LO|NLO_QCD|NLO\\\",\")\n",
    "print(\"\\t\\\"order\\\": \\\"D6lin|D6quad\\\",\")\n",
    "print(\"\\t\\\"type\\\": \\\"1D|global\\\",\")\n",
    "print(\"\\t\\\"limits\\\": {\")\n",
    "print(\"\\t\\t\\\"C\\\": [,],\")\n",
    "print(\"\\t\\t\\\"C\\\": [,]\")\n",
    "print(\"\\t}\")\n",
    "print(\"}\")"
   ]
  },
  {
   "cell_type": "code",
   "execution_count": 4,
   "metadata": {},
   "outputs": [],
   "source": [
    "# {\n",
    "#   \"observable_name\": \"my_obs_name\", \n",
    "#   \"arxiv\": \"\",\n",
    "#   \"reportnumber\": \"\",\n",
    "#   \"DOI\": \"\",\n",
    "#   \"date\": \"\",\n",
    "#   \"contribution\": \"theory|exp\",\n",
    "#   \"lumi\": \"\",\n",
    "#   \"energy\": \"\",\n",
    "#   \"experiment\": \"LEP, Tevatron, CERN LHC Run I+II\",\n",
    "#   \"description\": \"Paper title etc\",\n",
    "#   \"CL\": \"95\",\n",
    "#   \"normalization\": \"1000\",\n",
    "#   \"order\": \"D6lin|D6quad\",\n",
    "#   \"type\": \"1D|global\",\n",
    "#   \"limits\": {\n",
    "#     \"CHWB\": [ -0.01, 0.01  ],\n",
    "#     \"CHB\": [-1000 , 1000  ],\n",
    "#     \"more\": [-0,0],\n",
    "#     \"more\": [-0,0],\n",
    "#     \"more\": [-0,0]\n",
    "#   }\n",
    "# }"
   ]
  },
  {
   "cell_type": "code",
   "execution_count": null,
   "metadata": {},
   "outputs": [],
   "source": []
  }
 ],
 "metadata": {
  "kernelspec": {
   "display_name": "Python 3 (ipykernel)",
   "language": "python",
   "name": "python3"
  },
  "language_info": {
   "codemirror_mode": {
    "name": "ipython",
    "version": 3
   },
   "file_extension": ".py",
   "mimetype": "text/x-python",
   "name": "python",
   "nbconvert_exporter": "python",
   "pygments_lexer": "ipython3",
   "version": "3.9.6"
  }
 },
 "nbformat": 4,
 "nbformat_minor": 2
}
